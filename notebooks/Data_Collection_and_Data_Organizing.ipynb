version https://git-lfs.github.com/spec/v1
oid sha256:6fce97b68b9ec3a7b578b63dbae50e428218064c237b83c7af64ae61b784c2a1
size 18801
