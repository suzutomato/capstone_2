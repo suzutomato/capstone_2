version https://git-lfs.github.com/spec/v1
oid sha256:f6fb2cb833c8fbdd0e03bedb58d72628fa4f3e86c429f136c6ab8ff8018c7c30
size 18469
