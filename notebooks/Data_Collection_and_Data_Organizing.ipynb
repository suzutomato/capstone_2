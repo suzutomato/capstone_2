version https://git-lfs.github.com/spec/v1
oid sha256:c3297598caf23dedf6c643f72f75ac47d6f12b108e0c6dbf3552ec3ec945ca7c
size 18219
