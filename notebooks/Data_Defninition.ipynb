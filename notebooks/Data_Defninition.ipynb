version https://git-lfs.github.com/spec/v1
oid sha256:8d7262f7b4d1d3b2b89c76a242e9e8bc52d4f536e2bc18b76e8f8ee4c7c59dda
size 32892
