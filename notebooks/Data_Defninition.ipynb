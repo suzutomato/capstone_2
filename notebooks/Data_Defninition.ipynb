version https://git-lfs.github.com/spec/v1
oid sha256:7c1956c70c91185e0c5a9d7b2fc044d0b68dd1b3dfb3f0bc83ad4fed35a775fa
size 1657552
