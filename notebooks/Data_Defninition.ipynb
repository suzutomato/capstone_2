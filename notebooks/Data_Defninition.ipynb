version https://git-lfs.github.com/spec/v1
oid sha256:3d7c7268a3bb0bec107d3769b2128390a8fbb188c55b4c6b09815910034c0e1e
size 135704
