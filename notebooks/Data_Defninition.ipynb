version https://git-lfs.github.com/spec/v1
oid sha256:55a819dcb928397a94dc3855b879043b6252b55509e18605d6e92f0251efc4a8
size 1657569
