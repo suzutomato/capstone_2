version https://git-lfs.github.com/spec/v1
oid sha256:e5a6a9b27dcbd5e7b3f2387342786402de3965d0b24ad51295f296525683e9f9
size 1657444
